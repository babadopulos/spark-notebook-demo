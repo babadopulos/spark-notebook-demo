{
  "metadata" : {
    "id" : "6286a73f-8089-4628-9d6e-abd0ed8333eb",
    "name" : "geo-demo",
    "user_save_timestamp" : "1970-01-01T00:00:00.000Z",
    "auto_save_timestamp" : "1970-01-01T00:00:00.000Z",
    "language_info" : {
      "name" : "scala",
      "file_extension" : "scala",
      "codemirror_mode" : "text/x-scala"
    },
    "trusted" : true,
    "sparkNotebook" : null,
    "customLocalRepo" : null,
    "customRepos" : null,
    "customDeps" : [
      "com.amazonaws:aws-java-sdk:1.7.4",
      "org.apache.hadoop:hadoop-aws:2.7.1",
      "com.tailtarget:sparksqlgeohash:1.0-SNAPSHOT"
    ],
    "customImports" : null,
    "customArgs" : null,
    "customSparkConf" : null,
    "customVars" : null
  },
  "cells" : [
    {
      "metadata" : {
        "id" : "5AB597B26A664AEF82399CA66FDEE10E"
      },
      "cell_type" : "markdown",
      "source" : "# Exploration of geo data with Spark SQL"
    },
    {
      "metadata" : {
        "id" : "2164F75E441E432193516707F46716A5"
      },
      "cell_type" : "markdown",
      "source" : "Create the Spark Context:"
    },
    {
      "metadata" : {
        "trusted" : true,
        "input_collapsed" : false,
        "collapsed" : false,
        "id" : "30B816025CD74DFD8106151D6F3CEAFF"
      },
      "cell_type" : "code",
      "source" : [
        "import org.apache.spark.sql.SparkSession\n",
        "\n",
        "val spark = SparkSession.builder().appName(\"Spark SQL basic example\")\n",
        "                .config(\"dfs.client.use.datanode.hostname\", \"true\")\n",
        "                .config(\"yarn.resourcemanager.address\", \"localhost\").getOrCreate()\n",
        "\n",
        "// This configuration is used to run on docker. If running on the cloud or other server, you can change to:\n",
        "// val spark = SparkSession.builder().appName(\"Spark SQL basic example\").getOrCreate()\n"
      ],
      "outputs" : [ ]
    },
    {
      "metadata" : {
        "id" : "B52CFC4087554101BBBE674328440D63"
      },
      "cell_type" : "markdown",
      "source" : "Read a local data file with geo data and create a Data Frame:"
    },
    {
      "metadata" : {
        "trusted" : true,
        "input_collapsed" : false,
        "collapsed" : false,
        "id" : "A7566C5166714E78AF3B893996A25ADB"
      },
      "cell_type" : "code",
      "source" : [
        "val df = spark.read.option(\"header\",\"true\").csv(\"/opt/docker/notebooks/spark-sql-demo/example-database.csv\").toDF"
      ],
      "outputs" : [ ]
    },
    {
      "metadata" : {
        "id" : "B40E3309870D4FE48DEF48DC0D9ADD2F"
      },
      "cell_type" : "markdown",
      "source" : "Show the data retrieved from the file:"
    },
    {
      "metadata" : {
        "trusted" : true,
        "input_collapsed" : false,
        "collapsed" : false,
        "id" : "F946B06A3A8949EE80409649F128A929"
      },
      "cell_type" : "code",
      "source" : [
        "df.show"
      ],
      "outputs" : [ ]
    },
    {
      "metadata" : {
        "id" : "F7C74F841C6C4476B636BA8CC93C48BE"
      },
      "cell_type" : "markdown",
      "source" : "If you want to see the whole columns, show the results like this:"
    },
    {
      "metadata" : {
        "trusted" : true,
        "input_collapsed" : false,
        "collapsed" : false,
        "id" : "8E2B0A591C8C42D2B4B57387629EF74A"
      },
      "cell_type" : "code",
      "source" : [
        "df.show(false)"
      ],
      "outputs" : [ ]
    },
    {
      "metadata" : {
        "id" : "DA1712C52D254B01B1684F773FDF3C0C"
      },
      "cell_type" : "markdown",
      "source" : "When we read the file, we let Spark SQL to infer the schema in the file. Let's see what it got:"
    },
    {
      "metadata" : {
        "trusted" : true,
        "input_collapsed" : false,
        "collapsed" : false,
        "id" : "C32A66F7D4CD47258561ADADD0BB4CB5"
      },
      "cell_type" : "code",
      "source" : [
        "df.printSchema"
      ],
      "outputs" : [ ]
    },
    {
      "metadata" : {
        "id" : "DD5864DEBBF340E5AE22A11B25BEA6AB"
      },
      "cell_type" : "markdown",
      "source" : "Note that latitude and longitude were inferred as string, although they are numeric types. To solve this, let's create our own shcema"
    },
    {
      "metadata" : {
        "trusted" : true,
        "input_collapsed" : false,
        "collapsed" : false,
        "id" : "55E7656E1F2E472D8E37C481A2E61A22"
      },
      "cell_type" : "code",
      "source" : [
        "import org.apache.spark.sql.types._\n",
        "\n",
        "val schema = StructType(Array(\n",
        "    StructField(\"ad_id\",StringType,true),\n",
        "    StructField(\"utc_timestamp\",LongType,true),\n",
        "    StructField(\"id_type\",StringType,true),\n",
        "    StructField(\"latitude\",DoubleType,true),\n",
        "    StructField(\"longitude\",DoubleType,true),\n",
        "    StructField(\"horizontal_accuracy\",DoubleType,true),\n",
        "    StructField(\"geo_hash\",StringType,true)           \n",
        "    )\n",
        ")"
      ],
      "outputs" : [ ]
    },
    {
      "metadata" : {
        "id" : "477D90BFF97B4014920A2ADCCEB5D0E0"
      },
      "cell_type" : "markdown",
      "source" : "And now let's read the file again, but using our schema this time:"
    },
    {
      "metadata" : {
        "trusted" : true,
        "input_collapsed" : false,
        "collapsed" : false,
        "id" : "A2337BC009B14938834C5B39964E2C8B"
      },
      "cell_type" : "code",
      "source" : [
        "val  records = spark.read.schema(schema).option(\"header\",\"true\").csv(\"/opt/docker/notebooks/spark-sql-demo/example-database.csv\")"
      ],
      "outputs" : [ ]
    },
    {
      "metadata" : {
        "id" : "DAD0866E5AEF411091300CBEC7D804E2"
      },
      "cell_type" : "markdown",
      "source" : "And let's see how is the schema now:"
    },
    {
      "metadata" : {
        "trusted" : true,
        "input_collapsed" : false,
        "collapsed" : false,
        "id" : "532F65F4D9B5480EA5FFFFE37C36DDCD"
      },
      "cell_type" : "code",
      "source" : [
        "records.printSchema"
      ],
      "outputs" : [ ]
    },
    {
      "metadata" : {
        "id" : "3190A39CB71844D787A8042BD16D2193"
      },
      "cell_type" : "markdown",
      "source" : "And how the data is printed:"
    },
    {
      "metadata" : {
        "trusted" : true,
        "input_collapsed" : false,
        "collapsed" : false,
        "id" : "9B646E284C314D0D8F5092BDA2B9A963"
      },
      "cell_type" : "code",
      "source" : [
        "records.show()"
      ],
      "outputs" : [ ]
    },
    {
      "metadata" : {
        "id" : "39C1F590D4934A529E5DEB38CE6D0339"
      },
      "cell_type" : "markdown",
      "source" : "We can read data from several other data sources. For example, let's read a file from HDFS:"
    },
    {
      "metadata" : {
        "trusted" : true,
        "input_collapsed" : false,
        "collapsed" : false,
        "id" : "D16DAE5BA53A4A5A8F4B8160EAE866FF"
      },
      "cell_type" : "code",
      "source" : [
        "val fromHDFS = spark.read.schema(schema).option(\"header\",\"true\")\n",
        "          .csv(\"hdfs://namenode:9000/spark-sql-demo/example-database-on-hdfs.csv\").toDF"
      ],
      "outputs" : [ ]
    },
    {
      "metadata" : {
        "trusted" : true,
        "input_collapsed" : false,
        "collapsed" : false,
        "id" : "1B29AD282FF6409D81F643C0AD814A95"
      },
      "cell_type" : "code",
      "source" : [
        "fromHDFS.show()"
      ],
      "outputs" : [ ]
    },
    {
      "metadata" : {
        "id" : "F02F032100AD469B8CF70756551273CD"
      },
      "cell_type" : "markdown",
      "source" : "We can also read data from Amazon S3, but in this case we need to use external libraries.\n\nIf you want use external libraries with the spark-shell, you just have to start it this way:\n\nspark-shell --jars /jar/aws-java-sdk-1.7.4.jar,/jar/hadoop-aws-2.7.1.jar\n\nWith notebooks, however, you have to edit the Notebook metadata and add the external dependencies. If they can be retrieved from a Maven repository, the notebook will automatically download it.\n\nTo edit the notebook metadata, go to Edit/Edit Notebook Metadata. Look for the customDeps section and you will see that we already have our dependencies there:\n\n\"customDeps\": [\n    \"com.amazonaws:aws-java-sdk:1.7.4\",\n    \"org.apache.hadoop:hadoop-aws:2.7.1\"\n  ],\n  \nTo read files from a private S3 repository, you need the S3 credentials. A good practice is store the credentials as environment variables, so we don't expose them. Here is how to access external variables:\n\n`val S3_KEY=sys.env(\"S3_KEY\")\n`val S3_SECRET=sys.env(\"S3_SECRET\")\n\nIf you are running on our docker demo, you will notice we read a file at ~/.notebooks/variables.env when starting the notebook (look at the docker/docker-compose.yml file). You can add your environment variables there and use them in the notebook.\n\nNow, let's read the data form S3:\n\n`sc.hadoopConfiguration.set(\"spark.hadoop.fs.s3a.impl\",\"org.apache.hadoop.fs.s3a.S3AFileSystem\")\n`sc.hadoopConfiguration.set(\"fs.s3a.access.key\", S3_KEY)\n`sc.hadoopConfiguration.set(\"fs.s3a.secret.key\", S3_SECRET)\n\n`val csv = spark.read.format(\"com.databricks.spark.csv\").option(\"delimiter\", \" \").load(\"s3a:/temp/geodata.log.gz\")\n\nNote that we can read compressed files and also configure custom delimiters."
    },
    {
      "metadata" : {
        "id" : "46A87087929045B0BBFAB7F5C31A5342"
      },
      "cell_type" : "markdown",
      "source" : "Once we have the data, we can explore it. Let's start by doing a simple select query:"
    },
    {
      "metadata" : {
        "trusted" : true,
        "input_collapsed" : false,
        "collapsed" : false,
        "id" : "51D83CEF7D8F4347A078BE44D7F0D2EB"
      },
      "cell_type" : "code",
      "source" : [
        "records.filter(\"ad_id = 'd8df62d20b0538dedc173fbab140bbfa3c075e73'\").show(false)"
      ],
      "outputs" : [ ]
    },
    {
      "metadata" : {
        "id" : "A145500EB60F4C26921AEAF17BD81252"
      },
      "cell_type" : "markdown",
      "source" : "We can also sort data:"
    },
    {
      "metadata" : {
        "trusted" : true,
        "input_collapsed" : false,
        "collapsed" : false,
        "id" : "9462857F7D334711A95E9B9513D12625"
      },
      "cell_type" : "code",
      "source" : [
        "records.sort(asc(\"ad_id\")).show()"
      ],
      "outputs" : [ ]
    },
    {
      "metadata" : {
        "id" : "3CC6166F959645629B51CE8D7AAA378F"
      },
      "cell_type" : "markdown",
      "source" : "With Spark Notebooks, we can use Java/Scala libraries and even our own Java/Scala code. \n\nIn our git repo, you will find a custom library we created for testing. It was compiled and added to the ../data/notebook-repository folder. This folder was mapped in our docker-compose.yml to the .m2 local repository used by Spark notebook. So, since this library is not available on the Maven central repository, we can find the library in the local disk.\n\nWe added our custom library to the Notebook Meta Data and now we can execute our custom code:"
    },
    {
      "metadata" : {
        "trusted" : true,
        "input_collapsed" : false,
        "collapsed" : false,
        "id" : "CA78720041A7439781EF816F97D7EBA1"
      },
      "cell_type" : "code",
      "source" : [
        "com.tailtarget.sparksqlgeohash.Util.tellTime()"
      ],
      "outputs" : [ ]
    },
    {
      "metadata" : {
        "id" : "41FB178264814A17861FBDDCECE42E6E"
      },
      "cell_type" : "markdown",
      "source" : "We can also register our own functions and use them in our queries. For example, in our sample code we have the following class:\n\n`public class SparkGeoHash implements UDF3<Double, Double, Integer, String> {\n\n    public String call(Double latitude, Double longitude, Integer numberOfCharacters){\n\n        return GeoHash.withCharacterPrecision(latitude, longitude, numberOfCharacters).toBase32();\n    }\n}`\n\nThis code shows how to create a User Defined Function. Our sample function received a latitute and longitude pair and returns the corresponding geohash with the requested number of character.\n\nYou can register a function like this:\n"
    },
    {
      "metadata" : {
        "trusted" : true,
        "input_collapsed" : false,
        "collapsed" : false,
        "id" : "6DD383728A5F4894998A7917728FD1D4"
      },
      "cell_type" : "code",
      "source" : [
        "import org.apache.spark.sql.functions.udf\n",
        "\n",
        "val geoHash = new com.tailtarget.sparksqlgeohash.udf.SparkGeoHash();\n",
        "spark.udf.register(\"geoHash\", geoHash, DataTypes.StringType);"
      ],
      "outputs" : [ ]
    },
    {
      "metadata" : {
        "id" : "0AD264179B644473AC0A915BE900DD42"
      },
      "cell_type" : "markdown",
      "source" : "Now we can use our function in our queries:"
    },
    {
      "metadata" : {
        "trusted" : true,
        "input_collapsed" : false,
        "collapsed" : false,
        "id" : "648BB8D18A6541318F6DC34030E555BB"
      },
      "cell_type" : "code",
      "source" : [
        "val recordsWithFunction = records\n",
        "                       .withColumn(\"generatedGeoHash\", callUDF(\"geoHash\", col(\"latitude\"), col(\"longitude\"), lit(12)))\n",
        "                       .select(col(\"ad_id\"), col(\"latitude\"),col(\"longitude\"),col(\"geo_hash\"),col(\"generatedGeoHash\"))\n",
        "\n",
        "recordsWithFunction.show()"
      ],
      "outputs" : [ ]
    },
    {
      "metadata" : {
        "trusted" : true,
        "input_collapsed" : false,
        "collapsed" : true,
        "id" : "B71F8E0B6DAA41DA9CA87222DFF3796D"
      },
      "cell_type" : "markdown",
      "source" : "You can also register your common functions by code, like this:\n\n`public class Util {\n\n    public static void registerUDFS(SparkSession context) {\n    \tcontext.udf().register(\"geoHash\", new SparkGeoHash(), DataTypes.StringType);\n    }\n`}\n\nAnd then, you call your method:"
    },
    {
      "metadata" : {
        "trusted" : true,
        "input_collapsed" : false,
        "collapsed" : false,
        "id" : "28DCF5EE7CD7496DA097227A02C50E49"
      },
      "cell_type" : "code",
      "source" : [
        "com.tailtarget.sparksqlgeohash.Util.registerUDFS(spark)\n",
        "\n",
        "val recordsWithFunction = records\n",
        "                       .withColumn(\"generatedGeoHash\", \n",
        "                                   callUDF(\"geoHash\", col(\"latitude\"), col(\"longitude\"), lit(12)))\n",
        "                       .select(col(\"ad_id\"), \n",
        "                               col(\"latitude\"),\n",
        "                               col(\"longitude\"),\n",
        "                               col(\"geo_hash\"),\n",
        "                               col(\"generatedGeoHash\"))\n",
        "\n",
        "recordsWithFunction.show()"
      ],
      "outputs" : [ ]
    },
    {
      "metadata" : {
        "id" : "59A81705A28248EFA68415F92C29433F"
      },
      "cell_type" : "markdown",
      "source" : "Let's count devices by a geohash:"
    },
    {
      "metadata" : {
        "trusted" : true,
        "input_collapsed" : false,
        "collapsed" : false,
        "id" : "19B6541CB9C644E28DB4525169EC13CD"
      },
      "cell_type" : "code",
      "source" : [
        "val devicesByGeoHash = records\n",
        "                       .withColumn(\"generatedGeoHash\", \n",
        "                                   callUDF(\"geoHash\", col(\"latitude\"), col(\"longitude\"), lit(2)))\n",
        "                       .select(col(\"ad_id\"), \n",
        "                               col(\"generatedGeoHash\"))\n",
        "                       .distinct().groupBy(\"generatedGeoHash\").count().sort(desc(\"count\"))\n",
        "devicesByGeoHash.show()"
      ],
      "outputs" : [
        {
          "name" : "stdout",
          "output_type" : "stream",
          "text" : "+----------------+-----+\n|generatedGeoHash|count|\n+----------------+-----+\n|              6g| 2503|\n|              75|  907|\n|              7h|  813|\n|              7n|  763|\n|              6u|  734|\n|              6v|  515|\n|              7p|  427|\n|              6f|  422|\n|              7j|  385|\n|              6z|  223|\n|              6x|  125|\n|              6y|   91|\n|              6w|   47|\n|              6t|   34|\n|              d8|   31|\n|              db|   23|\n|              6q|   21|\n|              6s|    5|\n|              6r|    4|\n|              6d|    4|\n+----------------+-----+\nonly showing top 20 rows\n\ndevicesByGeoHash: org.apache.spark.sql.Dataset[org.apache.spark.sql.Row] = [generatedGeoHash: string, count: bigint]\n"
        },
        {
          "metadata" : { },
          "data" : {
            "text/html" : ""
          },
          "output_type" : "execute_result",
          "execution_count" : 8,
          "time" : "Took: 11.813s, at 2018-06-16 00:23"
        }
      ]
    },
    {
      "metadata" : {
        "id" : "CC9089174A9A44EAAF902128B55A8506"
      },
      "cell_type" : "markdown",
      "source" : "Ploting results a bar chart:"
    },
    {
      "metadata" : {
        "trusted" : true,
        "input_collapsed" : false,
        "collapsed" : false,
        "id" : "B0B61E2E2EDD446099543C23A24A1F14"
      },
      "cell_type" : "code",
      "source" : [
        "devicesByGeoHash.createOrReplaceTempView(\"devicesByGeoHash\")\n",
        "\n",
        "BarChart(devicesByGeoHash, fields=Some{(\"generatedGeoHash\", \"count\")})"
      ],
      "outputs" : [
        {
          "name" : "stdout",
          "output_type" : "stream",
          "text" : "res91: notebook.front.widgets.charts.BarChart[org.apache.spark.sql.Dataset[org.apache.spark.sql.Row]] = <BarChart widget>\n"
        },
        {
          "metadata" : { },
          "data" : {
            "text/html" : "<div>\n      <script data-this=\"{&quot;dataId&quot;:&quot;anonf8a7aba840b1b79ed32f5a725cf06c5f&quot;,&quot;dataInit&quot;:[{&quot;generatedGeoHash&quot;:&quot;6g&quot;,&quot;count&quot;:2503},{&quot;generatedGeoHash&quot;:&quot;75&quot;,&quot;count&quot;:907},{&quot;generatedGeoHash&quot;:&quot;7h&quot;,&quot;count&quot;:813},{&quot;generatedGeoHash&quot;:&quot;7n&quot;,&quot;count&quot;:763},{&quot;generatedGeoHash&quot;:&quot;6u&quot;,&quot;count&quot;:734},{&quot;generatedGeoHash&quot;:&quot;6v&quot;,&quot;count&quot;:515},{&quot;generatedGeoHash&quot;:&quot;7p&quot;,&quot;count&quot;:427},{&quot;generatedGeoHash&quot;:&quot;6f&quot;,&quot;count&quot;:422},{&quot;generatedGeoHash&quot;:&quot;7j&quot;,&quot;count&quot;:385},{&quot;generatedGeoHash&quot;:&quot;6z&quot;,&quot;count&quot;:223},{&quot;generatedGeoHash&quot;:&quot;6x&quot;,&quot;count&quot;:125},{&quot;generatedGeoHash&quot;:&quot;6y&quot;,&quot;count&quot;:91},{&quot;generatedGeoHash&quot;:&quot;6w&quot;,&quot;count&quot;:47},{&quot;generatedGeoHash&quot;:&quot;6t&quot;,&quot;count&quot;:34},{&quot;generatedGeoHash&quot;:&quot;d8&quot;,&quot;count&quot;:31},{&quot;generatedGeoHash&quot;:&quot;db&quot;,&quot;count&quot;:23},{&quot;generatedGeoHash&quot;:&quot;6q&quot;,&quot;count&quot;:21},{&quot;generatedGeoHash&quot;:&quot;6s&quot;,&quot;count&quot;:5},{&quot;generatedGeoHash&quot;:&quot;6r&quot;,&quot;count&quot;:4},{&quot;generatedGeoHash&quot;:&quot;6d&quot;,&quot;count&quot;:4},{&quot;generatedGeoHash&quot;:&quot;7r&quot;,&quot;count&quot;:1}],&quot;genId&quot;:&quot;1829887021&quot;}\" type=\"text/x-scoped-javascript\">/*<![CDATA[*/req(['../javascripts/notebook/playground','../javascripts/notebook/magic/barChart'], \n      function(playground, _magicbarChart) {\n        // data ==> data-this (in observable.js's scopedEval) ==> this in JS => { dataId, dataInit, ... }\n        // this ==> scope (in observable.js's scopedEval) ==> this.parentElement ==> div.container below (toHtml)\n\n        playground.call(data,\n                        this\n                        ,\n                        {\n    \"f\": _magicbarChart,\n    \"o\": {\"x\":\"generatedGeoHash\",\"y\":\"count\",\"width\":600,\"height\":400}\n  }\n  \n                        \n                        \n                      );\n      }\n    );/*]]>*/</script>\n    <div>\n      <span class=\"chart-total-item-count\"><p data-bind=\"text: value\"><script data-this=\"{&quot;valueId&quot;:&quot;anon6ac399d0e9eb79f04432ccdebf8145de&quot;,&quot;initialValue&quot;:&quot;21&quot;}\" type=\"text/x-scoped-javascript\">/*<![CDATA[*/\nreq(\n['observable', 'knockout'],\nfunction (O, ko) {\n  ko.applyBindings({\n      value: O.makeObservable(valueId, initialValue)\n    },\n    this\n  );\n});\n        /*]]>*/</script></p> entries total</span>\n      <span class=\"chart-sampling-warning\"><p data-bind=\"text: value\"><script data-this=\"{&quot;valueId&quot;:&quot;anon6eeb987055025c1b4782e09f1521f395&quot;,&quot;initialValue&quot;:&quot;&quot;}\" type=\"text/x-scoped-javascript\">/*<![CDATA[*/\nreq(\n['observable', 'knockout'],\nfunction (O, ko) {\n  ko.applyBindings({\n      value: O.makeObservable(valueId, initialValue)\n    },\n    this\n  );\n});\n        /*]]>*/</script></p></span>\n      <div>\n      </div>\n    </div></div>"
          },
          "output_type" : "execute_result",
          "execution_count" : 7,
          "time" : "Took: 27.128s, at 2018-06-16 00:04"
        }
      ]
    },
    {
      "metadata" : {
        "id" : "8CA6B24C6FC14BC187C6A32D8C9BB7DA"
      },
      "cell_type" : "markdown",
      "source" : "Plotting data as a map:"
    },
    {
      "metadata" : {
        "trusted" : true,
        "input_collapsed" : false,
        "collapsed" : false,
        "id" : "E204F91DAF844B8DBCDFF5858048158C"
      },
      "cell_type" : "code",
      "source" : [
        "recods.createOrReplaceTempView(\"records\")\n",
        "\n",
        "val grupedLocation = spark.sql(\n",
        "  \"SELECT first(latitude) as latitude, first(longitude) as longitude, first(geo_hash), first(substring(geo_hash, 0, 2)) \" +  \n",
        "  \"FROM records group by substring(geo_hash, 0, 3)\");\n",
        "\n",
        "GeoPointsChart(grupedLocation,latLonFields=Some{(\"latitude\",\"longitude\")})"
      ],
      "outputs" : [
        {
          "metadata" : { },
          "data" : {
            "text/html" : "<div>\n      <script data-this=\"{&quot;dataId&quot;:&quot;anon82249a29843f1384dbf46b8b545fe9bd&quot;,&quot;dataInit&quot;:[{&quot;latitude&quot;:-8.200905,&quot;longitude&quot;:-34.93098},{&quot;latitude&quot;:-10.741891,&quot;longitude&quot;:-47.53721},{&quot;latitude&quot;:-4.17382,&quot;longitude&quot;:-38.46061},{&quot;latitude&quot;:-11.464308,&quot;longitude&quot;:-58.822255},{&quot;latitude&quot;:-14.725584,&quot;longitude&quot;:-49.464673},{&quot;latitude&quot;:-13.794149,&quot;longitude&quot;:-47.45565},{&quot;latitude&quot;:0.941175,&quot;longitude&quot;:-60.418067},{&quot;latitude&quot;:-11.198283,&quot;longitude&quot;:-61.5185},{&quot;latitude&quot;:-5.816323,&quot;longitude&quot;:-46.134917},{&quot;latitude&quot;:-3.189929,&quot;longitude&quot;:-52.209503},{&quot;latitude&quot;:-12.879151,&quot;longitude&quot;:-38.407512},{&quot;latitude&quot;:-15.61647,&quot;longitude&quot;:-56.07178},{&quot;latitude&quot;:-0.922406,&quot;longitude&quot;:-52.43291},{&quot;latitude&quot;:-9.481679,&quot;longitude&quot;:-37.374032},{&quot;latitude&quot;:-30.04782,&quot;longitude&quot;:-51.207308},{&quot;latitude&quot;:-7.5815,&quot;longitude&quot;:-40.498914},{&quot;latitude&quot;:-10.959403,&quot;longitude&quot;:-38.791782},{&quot;latitude&quot;:-8.794996,&quot;longitude&quot;:-38.346272},{&quot;latitude&quot;:-7.033663,&quot;longitude&quot;:-37.276551},{&quot;latitude&quot;:-22.387389,&quot;longitude&quot;:-47.585318},{&quot;latitude&quot;:-18.917191,&quot;longitude&quot;:-48.196473},{&quot;latitude&quot;:-7.040616,&quot;longitude&quot;:-55.425814},{&quot;latitude&quot;:-7.540609,&quot;longitude&quot;:-46.045587},{&quot;latitude&quot;:-5.306298,&quot;longitude&quot;:-38.918746},{&quot;latitude&quot;:-20.260931,&quot;longitude&quot;:-56.380494},{&quot;latitude&quot;:-3.969959,&quot;longitude&quot;:-45.664148},{&quot;latitude&quot;:-15.868794,&quot;longitude&quot;:-50.867077},{&quot;latitude&quot;:-14.209629,&quot;longitude&quot;:-44.281732},{&quot;latitude&quot;:-28.625212,&quot;longitude&quot;:-56.031096},{&quot;latitude&quot;:-8.430135,&quot;longitude&quot;:-42.85905},{&quot;latitude&quot;:-2.759275,&quot;longitude&quot;:-42.822941},{&quot;latitude&quot;:-19.151548,&quot;longitude&quot;:-45.451429},{&quot;latitude&quot;:-29.759479,&quot;longitude&quot;:-57.086191},{&quot;latitude&quot;:-26.07085,&quot;longitude&quot;:-53.722977},{&quot;latitude&quot;:-23.259138,&quot;longitude&quot;:-47.863877},{&quot;latitude&quot;:-2.565074,&quot;longitude&quot;:-57.872384},{&quot;latitude&quot;:-17.810397,&quot;longitude&quot;:-50.934526},{&quot;latitude&quot;:-3.753928,&quot;longitude&quot;:-43.356747},{&quot;latitude&quot;:-23.001794,&quot;longitude&quot;:-49.786639},{&quot;latitude&quot;:-2.0462,&quot;longitude&quot;:-47.5504},{&quot;latitude&quot;:-18.100734,&quot;longitude&quot;:-54.550524},{&quot;latitude&quot;:-11.563669,&quot;longitude&quot;:-43.280214},{&quot;latitude&quot;:-10.93868,&quot;longitude&quot;:-37.06142},{&quot;latitude&quot;:-14.0334,&quot;longitude&quot;:-39.6873},{&quot;latitude&quot;:-21.195871,&quot;longitude&quot;:-43.764032},{&quot;latitude&quot;:-2.238555,&quot;longitude&quot;:-45.301586},{&quot;latitude&quot;:-23.739517,&quot;longitude&quot;:-52.869103},{&quot;latitude&quot;:-15.890828,&quot;longitude&quot;:-52.267293},{&quot;latitude&quot;:-1.192878,&quot;longitude&quot;:-47.169399},{&quot;latitude&quot;:-9.657434,&quot;longitude&quot;:-35.7103},{&quot;latitude&quot;:-7.625493,&quot;longitude&quot;:-72.882032},{&quot;latitude&quot;:-21.490689,&quot;longitude&quot;:-56.16698},{&quot;latitude&quot;:-11.416703,&quot;longitude&quot;:-40.288909},{&quot;latitude&quot;:-32.561698,&quot;longitude&quot;:-53.385869},{&quot;latitude&quot;:-30.052021,&quot;longitude&quot;:-52.911137},{&quot;latitude&quot;:-6.764832,&quot;longitude&quot;:-51.066318},{&quot;latitude&quot;:-8.368728,&quot;longitude&quot;:-35.758942},{&quot;latitude&quot;:-5.270655,&quot;longitude&quot;:-44.644198},{&quot;latitude&quot;:-22.865364,&quot;longitude&quot;:-43.453884},{&quot;latitude&quot;:-21.280714,&quot;longitude&quot;:-50.314533},{&quot;latitude&quot;:-18.13559,&quot;longitude&quot;:-40.53757},{&quot;latitude&quot;:-20.729792,&quot;longitude&quot;:-46.609906},{&quot;latitude&quot;:-13.25646,&quot;longitude&quot;:-43.420396},{&quot;latitude&quot;:-19.54232,&quot;longitude&quot;:-44.737444},{&quot;latitude&quot;:-25.53972,&quot;longitude&quot;:-49.258695},{&quot;latitude&quot;:-8.831843,&quot;longitude&quot;:-69.262717},{&quot;latitude&quot;:-21.760264,&quot;longitude&quot;:-53.269085},{&quot;latitude&quot;:-17.865883,&quot;longitude&quot;:-41.508097},{&quot;latitude&quot;:-5.543812,&quot;longitude&quot;:-47.472747},{&quot;latitude&quot;:-12.136816,&quot;longitude&quot;:-61.859008},{&quot;latitude&quot;:-21.53281,&quot;longitude&quot;:-42.196674},{&quot;latitude&quot;:-28.987293,&quot;longitude&quot;:-49.426719},{&quot;latitude&quot;:-31.729876,&quot;longitude&quot;:-52.325517},{&quot;latitude&quot;:-17.892329,&quot;longitude&quot;:-39.371217},{&quot;latitude&quot;:-5.117038,&quot;longitude&quot;:-35.84606},{&quot;latitude&quot;:-29.267705,&quot;longitude&quot;:-51.194696},{&quot;latitude&quot;:-19.036907,&quot;longitude&quot;:-53.010907},{&quot;latitude&quot;:-13.549809,&quot;longitude&quot;:-52.280645},{&quot;latitude&quot;:-12.089039,&quot;longitude&quot;:-45.775027},{&quot;latitude&quot;:-7.5099,&quot;longitude&quot;:-63.0249},{&quot;latitude&quot;:-7.862404,&quot;longitude&quot;:-41.907332},{&quot;latitude&quot;:-13.76169,&quot;longitude&quot;:-46.162911},{&quot;latitude&quot;:-7.263424,&quot;longitude&quot;:-64.798514},{&quot;latitude&quot;:-14.465265,&quot;longitude&quot;:-40.44609},{&quot;latitude&quot;:2.803452,&quot;longitude&quot;:-60.761602},{&quot;latitude&quot;:-24.316654,&quot;longitude&quot;:-46.998672},{&quot;latitude&quot;:-3.1058,&quot;longitude&quot;:-60.012963},{&quot;latitude&quot;:-12.028782,&quot;longitude&quot;:-44.793857},{&quot;latitude&quot;:-21.217143,&quot;longitude&quot;:-47.818525},{&quot;latitude&quot;:-16.700272,&quot;longitude&quot;:-43.868847},{&quot;latitude&quot;:-9.656803,&quot;longitude&quot;:-65.728708},{&quot;latitude&quot;:-13.462675,&quot;longitude&quot;:-56.72188},{&quot;latitude&quot;:-11.73972,&quot;longitude&quot;:-49.05974},{&quot;latitude&quot;:-11.067541,&quot;longitude&quot;:-41.693916},{&quot;latitude&quot;:-15.342437,&quot;longitude&quot;:-58.878851},{&quot;latitude&quot;:-15.074427,&quot;longitude&quot;:-57.179822},{&quot;latitude&quot;:-5.989528,&quot;longitude&quot;:-37.816472},{&quot;latitude&quot;:-13.061349,&quot;longitude&quot;:-54.088964},{&quot;latitude&quot;:-28.6291,&quot;longitude&quot;:-52.868947},{&quot;latitude&quot;:-13.382452,&quot;longitude&quot;:-44.195336},{&quot;latitude&quot;:-24.456708,&quot;longitude&quot;:-50.754335},{&quot;latitude&quot;:-22.892137,&quot;longitude&quot;:-43.597777},{&quot;latitude&quot;:-28.034377,&quot;longitude&quot;:-54.354072},{&quot;latitude&quot;:-17.216949,&quot;longitude&quot;:-46.877064},{&quot;latitude&quot;:-23.875868,&quot;longitude&quot;:-53.894048},{&quot;latitude&quot;:-15.823192,&quot;longitude&quot;:-48.130045},{&quot;latitude&quot;:-15.906303,&quot;longitude&quot;:-46.105872},{&quot;latitude&quot;:-3.300681,&quot;longitude&quot;:-51.916032},{&quot;latitude&quot;:-5.830052,&quot;longitude&quot;:-43.831013},{&quot;latitude&quot;:-20.505088,&quot;longitude&quot;:-54.59347},{&quot;latitude&quot;:0.01924,&quot;longitude&quot;:-51.087177},{&quot;latitude&quot;:-23.44465,&quot;longitude&quot;:-51.92979},{&quot;latitude&quot;:-28.490989,&quot;longitude&quot;:-48.769824},{&quot;latitude&quot;:-14.241566,&quot;longitude&quot;:-46.354934},{&quot;latitude&quot;:-11.248793,&quot;longitude&quot;:-57.501287},{&quot;latitude&quot;:-12.592181,&quot;longitude&quot;:-52.209403},{&quot;latitude&quot;:-16.853629,&quot;longitude&quot;:-43.589364},{&quot;latitude&quot;:-20.023563,&quot;longitude&quot;:-48.937383},{&quot;latitude&quot;:-14.665586,&quot;longitude&quot;:-52.350264},{&quot;latitude&quot;:-1.005396,&quot;longitude&quot;:-50.880839},{&quot;latitude&quot;:-2.58468,&quot;longitude&quot;:-49.505527},{&quot;latitude&quot;:-14.794583,&quot;longitude&quot;:-39.263603},{&quot;latitude&quot;:-12.571896,&quot;longitude&quot;:-55.726173},{&quot;latitude&quot;:-1.945488,&quot;longitude&quot;:-50.811132},{&quot;latitude&quot;:-8.205228,&quot;longitude&quot;:-43.74917},{&quot;latitude&quot;:-24.534384,&quot;longitude&quot;:-53.264028},{&quot;latitude&quot;:-26.92503,&quot;longitude&quot;:-49.06112},{&quot;latitude&quot;:-1.47479,&quot;longitude&quot;:-48.49169},{&quot;latitude&quot;:-21.544057,&quot;longitude&quot;:-42.181441},{&quot;latitude&quot;:-11.301085,&quot;longitude&quot;:-41.862333},{&quot;latitude&quot;:-29.133775,&quot;longitude&quot;:-56.539116},{&quot;latitude&quot;:-26.282297,&quot;longitude&quot;:-48.91995},{&quot;latitude&quot;:-9.425518,&quot;longitude&quot;:-40.481047},{&quot;latitude&quot;:-15.240417,&quot;longitude&quot;:-59.331642},{&quot;latitude&quot;:-19.831622,&quot;longitude&quot;:-45.846973},{&quot;latitude&quot;:-5.105962,&quot;longitude&quot;:-42.828355},{&quot;latitude&quot;:2.817774,&quot;longitude&quot;:-60.707825},{&quot;latitude&quot;:-16.082499,&quot;longitude&quot;:-57.677362},{&quot;latitude&quot;:-30.257036,&quot;longitude&quot;:-54.902567},{&quot;latitude&quot;:-9.861013,&quot;longitude&quot;:-56.073997},{&quot;latitude&quot;:1.593966,&quot;longitude&quot;:-60.351096},{&quot;latitude&quot;:-13.64153,&quot;longitude&quot;:-57.913542},{&quot;latitude&quot;:-17.82231,&quot;longitude&quot;:-50.586246},{&quot;latitude&quot;:-15.741793,&quot;longitude&quot;:-47.763043},{&quot;latitude&quot;:-4.875928,&quot;longitude&quot;:-66.891023},{&quot;latitude&quot;:-14.543523,&quot;longitude&quot;:-49.162168},{&quot;latitude&quot;:-22.220299,&quot;longitude&quot;:-54.805168},{&quot;latitude&quot;:-6.890833,&quot;longitude&quot;:-38.559619},{&quot;latitude&quot;:-4.226845,&quot;longitude&quot;:-69.936763},{&quot;latitude&quot;:-21.714603,&quot;longitude&quot;:-50.730496},{&quot;latitude&quot;:-20.629008,&quot;longitude&quot;:-51.093654},{&quot;latitude&quot;:-10.266875,&quot;longitude&quot;:-63.294707},{&quot;latitude&quot;:-17.572019,&quot;longitude&quot;:-52.573775},{&quot;latitude&quot;:-3.356618,&quot;longitude&quot;:-64.717837},{&quot;latitude&quot;:-7.120286,&quot;longitude&quot;:-46.521264},{&quot;latitude&quot;:-4.703091,&quot;longitude&quot;:-55.992755},{&quot;latitude&quot;:-3.928884,&quot;longitude&quot;:-40.884336},{&quot;latitude&quot;:-9.973219,&quot;longitude&quot;:-67.804396},{&quot;latitude&quot;:-2.918749,&quot;longitude&quot;:-48.947625},{&quot;latitude&quot;:-7.029342,&quot;longitude&quot;:-55.420915},{&quot;latitude&quot;:-24.967033,&quot;longitude&quot;:-53.497577},{&quot;latitude&quot;:-4.5688,&quot;longitude&quot;:-49.222801},{&quot;latitude&quot;:-1.279749,&quot;longitude&quot;:-47.939325},{&quot;latitude&quot;:-4.83207,&quot;longitude&quot;:-40.319108},{&quot;latitude&quot;:-23.963513,&quot;longitude&quot;:-46.311985},{&quot;latitude&quot;:-31.802535,&quot;longitude&quot;:-54.028392},{&quot;latitude&quot;:-18.77233,&quot;longitude&quot;:-40.477203},{&quot;latitude&quot;:-28.632001,&quot;longitude&quot;:-53.612035},{&quot;latitude&quot;:-26.804247,&quot;longitude&quot;:-51.002227},{&quot;latitude&quot;:-5.244947,&quot;longitude&quot;:-37.384206},{&quot;latitude&quot;:-9.350257,&quot;longitude&quot;:-40.82115},{&quot;latitude&quot;:-2.154936,&quot;longitude&quot;:-56.086158},{&quot;latitude&quot;:-6.564435,&quot;longitude&quot;:-47.45154},{&quot;latitude&quot;:-19.496831,&quot;longitude&quot;:-42.539119},{&quot;latitude&quot;:-24.545512,&quot;longitude&quot;:-48.045255},{&quot;latitude&quot;:-20.944964,&quot;longitude&quot;:-54.955161},{&quot;latitude&quot;:-10.828273,&quot;longitude&quot;:-42.72608},{&quot;latitude&quot;:-15.252441,&quot;longitude&quot;:-51.170005},{&quot;latitude&quot;:-10.945227,&quot;longitude&quot;:-62.980076},{&quot;latitude&quot;:-18.998456,&quot;longitude&quot;:-50.555133},{&quot;latitude&quot;:-2.652369,&quot;longitude&quot;:-56.742436},{&quot;latitude&quot;:-25.801992,&quot;longitude&quot;:-52.607927},{&quot;latitude&quot;:-4.288288,&quot;longitude&quot;:-45.24378},{&quot;latitude&quot;:-18.524079,&quot;longitude&quot;:-54.74581},{&quot;latitude&quot;:-16.205155,&quot;longitude&quot;:-59.714746},{&quot;latitude&quot;:-8.560276,&quot;longitude&quot;:-35.025221},{&quot;latitude&quot;:-3.63487,&quot;longitude&quot;:-44.38206},{&quot;latitude&quot;:-11.886645,&quot;longitude&quot;:-65.01485},{&quot;latitude&quot;:-5.784825,&quot;longitude&quot;:-35.196722},{&quot;latitude&quot;:-3.748812,&quot;longitude&quot;:-61.659831},{&quot;latitude&quot;:-27.096633,&quot;longitude&quot;:-52.617334},{&quot;latitude&quot;:-25.092185,&quot;longitude&quot;:-50.144249},{&quot;latitude&quot;:-20.2667,&quot;longitude&quot;:-40.4167},{&quot;latitude&quot;:-14.242263,&quot;longitude&quot;:-42.758499},{&quot;latitude&quot;:-29.576728,&quot;longitude&quot;:-50.061941},{&quot;latitude&quot;:-9.828188,&quot;longitude&quot;:-67.954855},{&quot;latitude&quot;:-19.024213,&quot;longitude&quot;:-57.673048},{&quot;latitude&quot;:-5.649502,&quot;longitude&quot;:-48.117833},{&quot;latitude&quot;:-10.577018,&quot;longitude&quot;:-40.277294},{&quot;latitude&quot;:-22.230997,&quot;longitude&quot;:-45.937515},{&quot;latitude&quot;:-2.455925,&quot;longitude&quot;:-54.695732},{&quot;latitude&quot;:-13.852743,&quot;longitude&quot;:-59.294308},{&quot;latitude&quot;:-26.857598,&quot;longitude&quot;:-49.269404},{&quot;latitude&quot;:-6.099627,&quot;longitude&quot;:-49.601069},{&quot;latitude&quot;:-14.870983,&quot;longitude&quot;:-40.842339},{&quot;latitude&quot;:-16.486486,&quot;longitude&quot;:-39.084365},{&quot;latitude&quot;:-14.797534,&quot;longitude&quot;:-53.613802},{&quot;latitude&quot;:-6.970895,&quot;longitude&quot;:-34.836028},{&quot;latitude&quot;:-0.120254,&quot;longitude&quot;:-67.093935},{&quot;latitude&quot;:-5.895872,&quot;longitude&quot;:-42.637975},{&quot;latitude&quot;:-8.07352,&quot;longitude&quot;:-39.13368},{&quot;latitude&quot;:-18.132823,&quot;longitude&quot;:-49.048128},{&quot;latitude&quot;:-10.7941,&quot;longitude&quot;:-49.624193},{&quot;latitude&quot;:-17.859049,&quot;longitude&quot;:-42.861607},{&quot;latitude&quot;:-26.227484,&quot;longitude&quot;:-51.095597},{&quot;latitude&quot;:-14.11542,&quot;longitude&quot;:-55.06816},{&quot;latitude&quot;:-8.77555,&quot;longitude&quot;:-63.896741},{&quot;latitude&quot;:-9.018831,&quot;longitude&quot;:-42.687717},{&quot;latitude&quot;:-23.51774,&quot;longitude&quot;:-46.396117},{&quot;latitude&quot;:-29.89842,&quot;longitude&quot;:-54.8177},{&quot;latitude&quot;:-22.119884,&quot;longitude&quot;:-56.534125},{&quot;latitude&quot;:-17.60067,&quot;longitude&quot;:-44.727785},{&quot;latitude&quot;:-23.555076,&quot;longitude&quot;:-46.95946},{&quot;latitude&quot;:-19.98267,&quot;longitude&quot;:-44.171425},{&quot;latitude&quot;:-3.141842,&quot;longitude&quot;:-58.446},{&quot;latitude&quot;:-13.848403,&quot;longitude&quot;:-56.091067},{&quot;latitude&quot;:-18.937832,&quot;longitude&quot;:-47.01003},{&quot;latitude&quot;:-15.059241,&quot;longitude&quot;:-46.499332},{&quot;latitude&quot;:-2.796401,&quot;longitude&quot;:-40.517907},{&quot;latitude&quot;:-3.856569,&quot;longitude&quot;:-32.428653},{&quot;latitude&quot;:-10.30489,&quot;longitude&quot;:-48.30349},{&quot;latitude&quot;:-6.52013,&quot;longitude&quot;:-41.568694},{&quot;latitude&quot;:-19.49833,&quot;longitude&quot;:-41.977231},{&quot;latitude&quot;:-17.022714,&quot;longitude&quot;:-46.014829},{&quot;latitude&quot;:-4.094382,&quot;longitude&quot;:-63.139868},{&quot;latitude&quot;:-22.969955,&quot;longitude&quot;:-42.020345},{&quot;latitude&quot;:-5.392285,&quot;longitude&quot;:-49.129382},{&quot;latitude&quot;:-9.726904,&quot;longitude&quot;:-43.912627},{&quot;latitude&quot;:-6.667913,&quot;longitude&quot;:-69.865377},{&quot;latitude&quot;:-19.052272,&quot;longitude&quot;:-57.648492},{&quot;latitude&quot;:-2.568519,&quot;longitude&quot;:-44.267613},{&quot;latitude&quot;:-22.520034,&quot;longitude&quot;:-55.72817},{&quot;latitude&quot;:-10.759203,&quot;longitude&quot;:-65.30369},{&quot;latitude&quot;:-5.812546,&quot;longitude&quot;:-61.292778},{&quot;latitude&quot;:-15.549767,&quot;longitude&quot;:-53.734341},{&quot;latitude&quot;:-9.462309,&quot;longitude&quot;:-59.220021},{&quot;latitude&quot;:-11.816712,&quot;longitude&quot;:-37.618271},{&quot;latitude&quot;:-21.705198,&quot;longitude&quot;:-57.876489},{&quot;latitude&quot;:-3.630363,&quot;longitude&quot;:-39.548453},{&quot;latitude&quot;:-16.755429,&quot;longitude&quot;:-49.266363},{&quot;latitude&quot;:-4.392043,&quot;longitude&quot;:-59.596833},{&quot;latitude&quot;:-7.193398,&quot;longitude&quot;:-48.222641},{&quot;latitude&quot;:-12.911697,&quot;longitude&quot;:-42.165123},{&quot;latitude&quot;:-19.673172,&quot;longitude&quot;:-51.184848},{&quot;latitude&quot;:-11.658078,&quot;longitude&quot;:-38.998604},{&quot;latitude&quot;:-7.201866,&quot;longitude&quot;:-59.891159},{&quot;latitude&quot;:-9.419877,&quot;longitude&quot;:-51.009895},{&quot;latitude&quot;:-3.872288,&quot;longitude&quot;:-50.447877},{&quot;latitude&quot;:-9.773496,&quot;longitude&quot;:-66.360815},{&quot;latitude&quot;:-16.255358,&quot;longitude&quot;:-40.150882},{&quot;latitude&quot;:-5.852163,&quot;longitude&quot;:-40.703429},{&quot;latitude&quot;:-11.058433,&quot;longitude&quot;:-45.187384},{&quot;latitude&quot;:-8.036576,&quot;longitude&quot;:-50.037053},{&quot;latitude&quot;:-19.901063,&quot;longitude&quot;:-41.058207},{&quot;latitude&quot;:-8.841974,&quot;longitude&quot;:-48.505534},{&quot;latitude&quot;:-15.723956,&quot;longitude&quot;:-41.34384},{&quot;latitude&quot;:3.347258,&quot;longitude&quot;:-59.840555},{&quot;latitude&quot;:-28.124632,&quot;longitude&quot;:-54.889255},{&quot;latitude&quot;:-20.162451,&quot;longitude&quot;:-43.29896},{&quot;latitude&quot;:-10.289948,&quot;longitude&quot;:-36.548133},{&quot;latitude&quot;:-20.514847,&quot;longitude&quot;:-50.352538},{&quot;latitude&quot;:-4.684036,&quot;longitude&quot;:-40.797135}],&quot;genId&quot;:&quot;1271043225&quot;}\" type=\"text/x-scoped-javascript\">/*<![CDATA[*/req(['../javascripts/notebook/playground','../javascripts/notebook/magic/geoPointsChart'], \n      function(playground, _magicgeoPointsChart) {\n        // data ==> data-this (in observable.js's scopedEval) ==> this in JS => { dataId, dataInit, ... }\n        // this ==> scope (in observable.js's scopedEval) ==> this.parentElement ==> div.container below (toHtml)\n\n        playground.call(data,\n                        this\n                        ,\n                        {\n    \"f\": _magicgeoPointsChart,\n    \"o\": {\"lat\":\"latitude\",\"lon\":\"longitude\",\"width\":600,\"height\":400,\"rField\":null,\"colorField\":null}\n  }\n  \n                        \n                        \n                      );\n      }\n    );/*]]>*/</script>\n    <div>\n      <span class=\"chart-total-item-count\"><p data-bind=\"text: value\"><script data-this=\"{&quot;valueId&quot;:&quot;anond840f23eaed32bc92fb27f7e07537217&quot;,&quot;initialValue&quot;:&quot;272&quot;}\" type=\"text/x-scoped-javascript\">/*<![CDATA[*/\nreq(\n['observable', 'knockout'],\nfunction (O, ko) {\n  ko.applyBindings({\n      value: O.makeObservable(valueId, initialValue)\n    },\n    this\n  );\n});\n        /*]]>*/</script></p> entries total</span>\n      <span class=\"chart-sampling-warning\"><p data-bind=\"text: value\"><script data-this=\"{&quot;valueId&quot;:&quot;anon3eb2d7bb86745de8bd89cccf67b04e53&quot;,&quot;initialValue&quot;:&quot;&quot;}\" type=\"text/x-scoped-javascript\">/*<![CDATA[*/\nreq(\n['observable', 'knockout'],\nfunction (O, ko) {\n  ko.applyBindings({\n      value: O.makeObservable(valueId, initialValue)\n    },\n    this\n  );\n});\n        /*]]>*/</script></p></span>\n      <div>\n      </div>\n    </div></div>"
          },
          "output_type" : "execute_result",
          "execution_count" : 2,
          "time" : "Took: 7.335s, at 2018-06-15 23:58"
        },
        {
          "name" : "stdout",
          "output_type" : "stream",
          "text" : "grupedLocation: org.apache.spark.sql.DataFrame = [latitude: double, longitude: double ... 2 more fields]\nres86: notebook.front.widgets.charts.GeoPointsChart[org.apache.spark.sql.DataFrame] = <GeoPointsChart widget>\n"
        },
        {
          "metadata" : { },
          "data" : {
            "text/html" : "<div>\n      <script data-this=\"{&quot;dataId&quot;:&quot;anon1dd68e6c188123513f25b97d36822a59&quot;,&quot;dataInit&quot;:[{&quot;latitude&quot;:-8.200905,&quot;longitude&quot;:-34.93098},{&quot;latitude&quot;:-10.741891,&quot;longitude&quot;:-47.53721},{&quot;latitude&quot;:-4.17382,&quot;longitude&quot;:-38.46061},{&quot;latitude&quot;:-11.464308,&quot;longitude&quot;:-58.822255},{&quot;latitude&quot;:-14.725584,&quot;longitude&quot;:-49.464673},{&quot;latitude&quot;:-13.794149,&quot;longitude&quot;:-47.45565},{&quot;latitude&quot;:0.941175,&quot;longitude&quot;:-60.418067},{&quot;latitude&quot;:-11.198283,&quot;longitude&quot;:-61.5185},{&quot;latitude&quot;:-5.816323,&quot;longitude&quot;:-46.134917},{&quot;latitude&quot;:-3.189929,&quot;longitude&quot;:-52.209503},{&quot;latitude&quot;:-12.879151,&quot;longitude&quot;:-38.407512},{&quot;latitude&quot;:-15.61647,&quot;longitude&quot;:-56.07178},{&quot;latitude&quot;:-0.922406,&quot;longitude&quot;:-52.43291},{&quot;latitude&quot;:-9.481679,&quot;longitude&quot;:-37.374032},{&quot;latitude&quot;:-30.04782,&quot;longitude&quot;:-51.207308},{&quot;latitude&quot;:-7.5815,&quot;longitude&quot;:-40.498914},{&quot;latitude&quot;:-10.959403,&quot;longitude&quot;:-38.791782},{&quot;latitude&quot;:-8.794996,&quot;longitude&quot;:-38.346272},{&quot;latitude&quot;:-7.033663,&quot;longitude&quot;:-37.276551},{&quot;latitude&quot;:-22.387389,&quot;longitude&quot;:-47.585318},{&quot;latitude&quot;:-18.917191,&quot;longitude&quot;:-48.196473},{&quot;latitude&quot;:-7.040616,&quot;longitude&quot;:-55.425814},{&quot;latitude&quot;:-7.540609,&quot;longitude&quot;:-46.045587},{&quot;latitude&quot;:-5.306298,&quot;longitude&quot;:-38.918746},{&quot;latitude&quot;:-20.260931,&quot;longitude&quot;:-56.380494},{&quot;latitude&quot;:-3.969959,&quot;longitude&quot;:-45.664148},{&quot;latitude&quot;:-15.868794,&quot;longitude&quot;:-50.867077},{&quot;latitude&quot;:-14.209629,&quot;longitude&quot;:-44.281732},{&quot;latitude&quot;:-28.625212,&quot;longitude&quot;:-56.031096},{&quot;latitude&quot;:-8.430135,&quot;longitude&quot;:-42.85905},{&quot;latitude&quot;:-2.759275,&quot;longitude&quot;:-42.822941},{&quot;latitude&quot;:-19.151548,&quot;longitude&quot;:-45.451429},{&quot;latitude&quot;:-29.759479,&quot;longitude&quot;:-57.086191},{&quot;latitude&quot;:-26.07085,&quot;longitude&quot;:-53.722977},{&quot;latitude&quot;:-23.259138,&quot;longitude&quot;:-47.863877},{&quot;latitude&quot;:-2.565074,&quot;longitude&quot;:-57.872384},{&quot;latitude&quot;:-17.810397,&quot;longitude&quot;:-50.934526},{&quot;latitude&quot;:-3.753928,&quot;longitude&quot;:-43.356747},{&quot;latitude&quot;:-23.001794,&quot;longitude&quot;:-49.786639},{&quot;latitude&quot;:-2.0462,&quot;longitude&quot;:-47.5504},{&quot;latitude&quot;:-18.100734,&quot;longitude&quot;:-54.550524},{&quot;latitude&quot;:-11.563669,&quot;longitude&quot;:-43.280214},{&quot;latitude&quot;:-10.93868,&quot;longitude&quot;:-37.06142},{&quot;latitude&quot;:-14.0334,&quot;longitude&quot;:-39.6873},{&quot;latitude&quot;:-21.195871,&quot;longitude&quot;:-43.764032},{&quot;latitude&quot;:-2.238555,&quot;longitude&quot;:-45.301586},{&quot;latitude&quot;:-23.739517,&quot;longitude&quot;:-52.869103},{&quot;latitude&quot;:-15.890828,&quot;longitude&quot;:-52.267293},{&quot;latitude&quot;:-1.192878,&quot;longitude&quot;:-47.169399},{&quot;latitude&quot;:-9.657434,&quot;longitude&quot;:-35.7103},{&quot;latitude&quot;:-7.625493,&quot;longitude&quot;:-72.882032},{&quot;latitude&quot;:-21.490689,&quot;longitude&quot;:-56.16698},{&quot;latitude&quot;:-11.416703,&quot;longitude&quot;:-40.288909},{&quot;latitude&quot;:-32.561698,&quot;longitude&quot;:-53.385869},{&quot;latitude&quot;:-30.052021,&quot;longitude&quot;:-52.911137},{&quot;latitude&quot;:-6.764832,&quot;longitude&quot;:-51.066318},{&quot;latitude&quot;:-8.368728,&quot;longitude&quot;:-35.758942},{&quot;latitude&quot;:-5.270655,&quot;longitude&quot;:-44.644198},{&quot;latitude&quot;:-22.865364,&quot;longitude&quot;:-43.453884},{&quot;latitude&quot;:-21.280714,&quot;longitude&quot;:-50.314533},{&quot;latitude&quot;:-18.13559,&quot;longitude&quot;:-40.53757},{&quot;latitude&quot;:-20.729792,&quot;longitude&quot;:-46.609906},{&quot;latitude&quot;:-13.25646,&quot;longitude&quot;:-43.420396},{&quot;latitude&quot;:-19.54232,&quot;longitude&quot;:-44.737444},{&quot;latitude&quot;:-25.53972,&quot;longitude&quot;:-49.258695},{&quot;latitude&quot;:-8.831843,&quot;longitude&quot;:-69.262717},{&quot;latitude&quot;:-21.760264,&quot;longitude&quot;:-53.269085},{&quot;latitude&quot;:-17.865883,&quot;longitude&quot;:-41.508097},{&quot;latitude&quot;:-5.543812,&quot;longitude&quot;:-47.472747},{&quot;latitude&quot;:-12.136816,&quot;longitude&quot;:-61.859008},{&quot;latitude&quot;:-21.53281,&quot;longitude&quot;:-42.196674},{&quot;latitude&quot;:-28.987293,&quot;longitude&quot;:-49.426719},{&quot;latitude&quot;:-31.729876,&quot;longitude&quot;:-52.325517},{&quot;latitude&quot;:-17.892329,&quot;longitude&quot;:-39.371217},{&quot;latitude&quot;:-5.117038,&quot;longitude&quot;:-35.84606},{&quot;latitude&quot;:-29.267705,&quot;longitude&quot;:-51.194696},{&quot;latitude&quot;:-19.036907,&quot;longitude&quot;:-53.010907},{&quot;latitude&quot;:-13.549809,&quot;longitude&quot;:-52.280645},{&quot;latitude&quot;:-12.089039,&quot;longitude&quot;:-45.775027},{&quot;latitude&quot;:-7.5099,&quot;longitude&quot;:-63.0249},{&quot;latitude&quot;:-7.862404,&quot;longitude&quot;:-41.907332},{&quot;latitude&quot;:-13.76169,&quot;longitude&quot;:-46.162911},{&quot;latitude&quot;:-7.263424,&quot;longitude&quot;:-64.798514},{&quot;latitude&quot;:-14.465265,&quot;longitude&quot;:-40.44609},{&quot;latitude&quot;:2.803452,&quot;longitude&quot;:-60.761602},{&quot;latitude&quot;:-24.316654,&quot;longitude&quot;:-46.998672},{&quot;latitude&quot;:-3.1058,&quot;longitude&quot;:-60.012963},{&quot;latitude&quot;:-12.028782,&quot;longitude&quot;:-44.793857},{&quot;latitude&quot;:-21.217143,&quot;longitude&quot;:-47.818525},{&quot;latitude&quot;:-16.700272,&quot;longitude&quot;:-43.868847},{&quot;latitude&quot;:-9.656803,&quot;longitude&quot;:-65.728708},{&quot;latitude&quot;:-13.462675,&quot;longitude&quot;:-56.72188},{&quot;latitude&quot;:-11.73972,&quot;longitude&quot;:-49.05974},{&quot;latitude&quot;:-11.067541,&quot;longitude&quot;:-41.693916},{&quot;latitude&quot;:-15.342437,&quot;longitude&quot;:-58.878851},{&quot;latitude&quot;:-15.074427,&quot;longitude&quot;:-57.179822},{&quot;latitude&quot;:-5.989528,&quot;longitude&quot;:-37.816472},{&quot;latitude&quot;:-13.061349,&quot;longitude&quot;:-54.088964},{&quot;latitude&quot;:-28.6291,&quot;longitude&quot;:-52.868947},{&quot;latitude&quot;:-13.382452,&quot;longitude&quot;:-44.195336},{&quot;latitude&quot;:-24.456708,&quot;longitude&quot;:-50.754335},{&quot;latitude&quot;:-22.892137,&quot;longitude&quot;:-43.597777},{&quot;latitude&quot;:-28.034377,&quot;longitude&quot;:-54.354072},{&quot;latitude&quot;:-17.216949,&quot;longitude&quot;:-46.877064},{&quot;latitude&quot;:-23.875868,&quot;longitude&quot;:-53.894048},{&quot;latitude&quot;:-15.823192,&quot;longitude&quot;:-48.130045},{&quot;latitude&quot;:-15.906303,&quot;longitude&quot;:-46.105872},{&quot;latitude&quot;:-3.300681,&quot;longitude&quot;:-51.916032},{&quot;latitude&quot;:-5.830052,&quot;longitude&quot;:-43.831013},{&quot;latitude&quot;:-20.505088,&quot;longitude&quot;:-54.59347},{&quot;latitude&quot;:0.01924,&quot;longitude&quot;:-51.087177},{&quot;latitude&quot;:-23.44465,&quot;longitude&quot;:-51.92979},{&quot;latitude&quot;:-28.490989,&quot;longitude&quot;:-48.769824},{&quot;latitude&quot;:-14.241566,&quot;longitude&quot;:-46.354934},{&quot;latitude&quot;:-11.248793,&quot;longitude&quot;:-57.501287},{&quot;latitude&quot;:-12.592181,&quot;longitude&quot;:-52.209403},{&quot;latitude&quot;:-16.853629,&quot;longitude&quot;:-43.589364},{&quot;latitude&quot;:-20.023563,&quot;longitude&quot;:-48.937383},{&quot;latitude&quot;:-14.665586,&quot;longitude&quot;:-52.350264},{&quot;latitude&quot;:-1.005396,&quot;longitude&quot;:-50.880839},{&quot;latitude&quot;:-2.58468,&quot;longitude&quot;:-49.505527},{&quot;latitude&quot;:-14.794583,&quot;longitude&quot;:-39.263603},{&quot;latitude&quot;:-12.571896,&quot;longitude&quot;:-55.726173},{&quot;latitude&quot;:-1.945488,&quot;longitude&quot;:-50.811132},{&quot;latitude&quot;:-8.205228,&quot;longitude&quot;:-43.74917},{&quot;latitude&quot;:-24.534384,&quot;longitude&quot;:-53.264028},{&quot;latitude&quot;:-26.92503,&quot;longitude&quot;:-49.06112},{&quot;latitude&quot;:-1.47479,&quot;longitude&quot;:-48.49169},{&quot;latitude&quot;:-21.544057,&quot;longitude&quot;:-42.181441},{&quot;latitude&quot;:-11.301085,&quot;longitude&quot;:-41.862333},{&quot;latitude&quot;:-29.133775,&quot;longitude&quot;:-56.539116},{&quot;latitude&quot;:-26.282297,&quot;longitude&quot;:-48.91995},{&quot;latitude&quot;:-9.425518,&quot;longitude&quot;:-40.481047},{&quot;latitude&quot;:-15.240417,&quot;longitude&quot;:-59.331642},{&quot;latitude&quot;:-19.831622,&quot;longitude&quot;:-45.846973},{&quot;latitude&quot;:-5.105962,&quot;longitude&quot;:-42.828355},{&quot;latitude&quot;:2.817774,&quot;longitude&quot;:-60.707825},{&quot;latitude&quot;:-16.082499,&quot;longitude&quot;:-57.677362},{&quot;latitude&quot;:-30.257036,&quot;longitude&quot;:-54.902567},{&quot;latitude&quot;:-9.861013,&quot;longitude&quot;:-56.073997},{&quot;latitude&quot;:1.593966,&quot;longitude&quot;:-60.351096},{&quot;latitude&quot;:-13.64153,&quot;longitude&quot;:-57.913542},{&quot;latitude&quot;:-17.82231,&quot;longitude&quot;:-50.586246},{&quot;latitude&quot;:-15.741793,&quot;longitude&quot;:-47.763043},{&quot;latitude&quot;:-4.875928,&quot;longitude&quot;:-66.891023},{&quot;latitude&quot;:-14.543523,&quot;longitude&quot;:-49.162168},{&quot;latitude&quot;:-22.220299,&quot;longitude&quot;:-54.805168},{&quot;latitude&quot;:-6.890833,&quot;longitude&quot;:-38.559619},{&quot;latitude&quot;:-4.226845,&quot;longitude&quot;:-69.936763},{&quot;latitude&quot;:-21.714603,&quot;longitude&quot;:-50.730496},{&quot;latitude&quot;:-20.629008,&quot;longitude&quot;:-51.093654},{&quot;latitude&quot;:-10.266875,&quot;longitude&quot;:-63.294707},{&quot;latitude&quot;:-17.572019,&quot;longitude&quot;:-52.573775},{&quot;latitude&quot;:-3.356618,&quot;longitude&quot;:-64.717837},{&quot;latitude&quot;:-7.120286,&quot;longitude&quot;:-46.521264},{&quot;latitude&quot;:-4.703091,&quot;longitude&quot;:-55.992755},{&quot;latitude&quot;:-3.928884,&quot;longitude&quot;:-40.884336},{&quot;latitude&quot;:-9.973219,&quot;longitude&quot;:-67.804396},{&quot;latitude&quot;:-2.918749,&quot;longitude&quot;:-48.947625},{&quot;latitude&quot;:-7.029342,&quot;longitude&quot;:-55.420915},{&quot;latitude&quot;:-24.967033,&quot;longitude&quot;:-53.497577},{&quot;latitude&quot;:-4.5688,&quot;longitude&quot;:-49.222801},{&quot;latitude&quot;:-1.279749,&quot;longitude&quot;:-47.939325},{&quot;latitude&quot;:-4.83207,&quot;longitude&quot;:-40.319108},{&quot;latitude&quot;:-23.963513,&quot;longitude&quot;:-46.311985},{&quot;latitude&quot;:-31.802535,&quot;longitude&quot;:-54.028392},{&quot;latitude&quot;:-18.77233,&quot;longitude&quot;:-40.477203},{&quot;latitude&quot;:-28.632001,&quot;longitude&quot;:-53.612035},{&quot;latitude&quot;:-26.804247,&quot;longitude&quot;:-51.002227},{&quot;latitude&quot;:-5.244947,&quot;longitude&quot;:-37.384206},{&quot;latitude&quot;:-9.350257,&quot;longitude&quot;:-40.82115},{&quot;latitude&quot;:-2.154936,&quot;longitude&quot;:-56.086158},{&quot;latitude&quot;:-6.564435,&quot;longitude&quot;:-47.45154},{&quot;latitude&quot;:-19.496831,&quot;longitude&quot;:-42.539119},{&quot;latitude&quot;:-24.545512,&quot;longitude&quot;:-48.045255},{&quot;latitude&quot;:-20.944964,&quot;longitude&quot;:-54.955161},{&quot;latitude&quot;:-10.828273,&quot;longitude&quot;:-42.72608},{&quot;latitude&quot;:-15.252441,&quot;longitude&quot;:-51.170005},{&quot;latitude&quot;:-10.945227,&quot;longitude&quot;:-62.980076},{&quot;latitude&quot;:-18.998456,&quot;longitude&quot;:-50.555133},{&quot;latitude&quot;:-2.652369,&quot;longitude&quot;:-56.742436},{&quot;latitude&quot;:-25.801992,&quot;longitude&quot;:-52.607927},{&quot;latitude&quot;:-4.288288,&quot;longitude&quot;:-45.24378},{&quot;latitude&quot;:-18.524079,&quot;longitude&quot;:-54.74581},{&quot;latitude&quot;:-16.205155,&quot;longitude&quot;:-59.714746},{&quot;latitude&quot;:-8.560276,&quot;longitude&quot;:-35.025221},{&quot;latitude&quot;:-3.63487,&quot;longitude&quot;:-44.38206},{&quot;latitude&quot;:-11.886645,&quot;longitude&quot;:-65.01485},{&quot;latitude&quot;:-5.784825,&quot;longitude&quot;:-35.196722},{&quot;latitude&quot;:-3.748812,&quot;longitude&quot;:-61.659831},{&quot;latitude&quot;:-27.096633,&quot;longitude&quot;:-52.617334},{&quot;latitude&quot;:-25.092185,&quot;longitude&quot;:-50.144249},{&quot;latitude&quot;:-20.2667,&quot;longitude&quot;:-40.4167},{&quot;latitude&quot;:-14.242263,&quot;longitude&quot;:-42.758499},{&quot;latitude&quot;:-29.576728,&quot;longitude&quot;:-50.061941},{&quot;latitude&quot;:-9.828188,&quot;longitude&quot;:-67.954855},{&quot;latitude&quot;:-19.024213,&quot;longitude&quot;:-57.673048},{&quot;latitude&quot;:-5.649502,&quot;longitude&quot;:-48.117833},{&quot;latitude&quot;:-10.577018,&quot;longitude&quot;:-40.277294},{&quot;latitude&quot;:-22.230997,&quot;longitude&quot;:-45.937515},{&quot;latitude&quot;:-2.455925,&quot;longitude&quot;:-54.695732},{&quot;latitude&quot;:-13.852743,&quot;longitude&quot;:-59.294308},{&quot;latitude&quot;:-26.857598,&quot;longitude&quot;:-49.269404},{&quot;latitude&quot;:-6.099627,&quot;longitude&quot;:-49.601069},{&quot;latitude&quot;:-14.870983,&quot;longitude&quot;:-40.842339},{&quot;latitude&quot;:-16.486486,&quot;longitude&quot;:-39.084365},{&quot;latitude&quot;:-14.797534,&quot;longitude&quot;:-53.613802},{&quot;latitude&quot;:-6.970895,&quot;longitude&quot;:-34.836028},{&quot;latitude&quot;:-0.120254,&quot;longitude&quot;:-67.093935},{&quot;latitude&quot;:-5.895872,&quot;longitude&quot;:-42.637975},{&quot;latitude&quot;:-8.07352,&quot;longitude&quot;:-39.13368},{&quot;latitude&quot;:-18.132823,&quot;longitude&quot;:-49.048128},{&quot;latitude&quot;:-10.7941,&quot;longitude&quot;:-49.624193},{&quot;latitude&quot;:-17.859049,&quot;longitude&quot;:-42.861607},{&quot;latitude&quot;:-26.227484,&quot;longitude&quot;:-51.095597},{&quot;latitude&quot;:-14.11542,&quot;longitude&quot;:-55.06816},{&quot;latitude&quot;:-8.77555,&quot;longitude&quot;:-63.896741},{&quot;latitude&quot;:-9.018831,&quot;longitude&quot;:-42.687717},{&quot;latitude&quot;:-23.51774,&quot;longitude&quot;:-46.396117},{&quot;latitude&quot;:-29.89842,&quot;longitude&quot;:-54.8177},{&quot;latitude&quot;:-22.119884,&quot;longitude&quot;:-56.534125},{&quot;latitude&quot;:-17.60067,&quot;longitude&quot;:-44.727785},{&quot;latitude&quot;:-23.555076,&quot;longitude&quot;:-46.95946},{&quot;latitude&quot;:-19.98267,&quot;longitude&quot;:-44.171425},{&quot;latitude&quot;:-3.141842,&quot;longitude&quot;:-58.446},{&quot;latitude&quot;:-13.848403,&quot;longitude&quot;:-56.091067},{&quot;latitude&quot;:-18.937832,&quot;longitude&quot;:-47.01003},{&quot;latitude&quot;:-15.059241,&quot;longitude&quot;:-46.499332},{&quot;latitude&quot;:-2.796401,&quot;longitude&quot;:-40.517907},{&quot;latitude&quot;:-3.856569,&quot;longitude&quot;:-32.428653},{&quot;latitude&quot;:-10.30489,&quot;longitude&quot;:-48.30349},{&quot;latitude&quot;:-6.52013,&quot;longitude&quot;:-41.568694},{&quot;latitude&quot;:-19.49833,&quot;longitude&quot;:-41.977231},{&quot;latitude&quot;:-17.022714,&quot;longitude&quot;:-46.014829},{&quot;latitude&quot;:-4.094382,&quot;longitude&quot;:-63.139868},{&quot;latitude&quot;:-22.969955,&quot;longitude&quot;:-42.020345},{&quot;latitude&quot;:-5.392285,&quot;longitude&quot;:-49.129382},{&quot;latitude&quot;:-9.726904,&quot;longitude&quot;:-43.912627},{&quot;latitude&quot;:-6.667913,&quot;longitude&quot;:-69.865377},{&quot;latitude&quot;:-19.052272,&quot;longitude&quot;:-57.648492},{&quot;latitude&quot;:-2.568519,&quot;longitude&quot;:-44.267613},{&quot;latitude&quot;:-22.520034,&quot;longitude&quot;:-55.72817},{&quot;latitude&quot;:-10.759203,&quot;longitude&quot;:-65.30369},{&quot;latitude&quot;:-5.812546,&quot;longitude&quot;:-61.292778},{&quot;latitude&quot;:-15.549767,&quot;longitude&quot;:-53.734341},{&quot;latitude&quot;:-9.462309,&quot;longitude&quot;:-59.220021},{&quot;latitude&quot;:-11.816712,&quot;longitude&quot;:-37.618271},{&quot;latitude&quot;:-21.705198,&quot;longitude&quot;:-57.876489},{&quot;latitude&quot;:-3.630363,&quot;longitude&quot;:-39.548453},{&quot;latitude&quot;:-16.755429,&quot;longitude&quot;:-49.266363},{&quot;latitude&quot;:-4.392043,&quot;longitude&quot;:-59.596833},{&quot;latitude&quot;:-7.193398,&quot;longitude&quot;:-48.222641},{&quot;latitude&quot;:-12.911697,&quot;longitude&quot;:-42.165123},{&quot;latitude&quot;:-19.673172,&quot;longitude&quot;:-51.184848},{&quot;latitude&quot;:-11.658078,&quot;longitude&quot;:-38.998604},{&quot;latitude&quot;:-7.201866,&quot;longitude&quot;:-59.891159},{&quot;latitude&quot;:-9.419877,&quot;longitude&quot;:-51.009895},{&quot;latitude&quot;:-3.872288,&quot;longitude&quot;:-50.447877},{&quot;latitude&quot;:-9.773496,&quot;longitude&quot;:-66.360815},{&quot;latitude&quot;:-16.255358,&quot;longitude&quot;:-40.150882},{&quot;latitude&quot;:-5.852163,&quot;longitude&quot;:-40.703429},{&quot;latitude&quot;:-11.058433,&quot;longitude&quot;:-45.187384},{&quot;latitude&quot;:-8.036576,&quot;longitude&quot;:-50.037053},{&quot;latitude&quot;:-19.901063,&quot;longitude&quot;:-41.058207},{&quot;latitude&quot;:-8.841974,&quot;longitude&quot;:-48.505534},{&quot;latitude&quot;:-15.723956,&quot;longitude&quot;:-41.34384},{&quot;latitude&quot;:3.347258,&quot;longitude&quot;:-59.840555},{&quot;latitude&quot;:-28.124632,&quot;longitude&quot;:-54.889255},{&quot;latitude&quot;:-20.162451,&quot;longitude&quot;:-43.29896},{&quot;latitude&quot;:-10.289948,&quot;longitude&quot;:-36.548133},{&quot;latitude&quot;:-20.514847,&quot;longitude&quot;:-50.352538},{&quot;latitude&quot;:-4.684036,&quot;longitude&quot;:-40.797135}],&quot;genId&quot;:&quot;560022119&quot;}\" type=\"text/x-scoped-javascript\">/*<![CDATA[*/req(['../javascripts/notebook/playground','../javascripts/notebook/magic/geoPointsChart'], \n      function(playground, _magicgeoPointsChart) {\n        // data ==> data-this (in observable.js's scopedEval) ==> this in JS => { dataId, dataInit, ... }\n        // this ==> scope (in observable.js's scopedEval) ==> this.parentElement ==> div.container below (toHtml)\n\n        playground.call(data,\n                        this\n                        ,\n                        {\n    \"f\": _magicgeoPointsChart,\n    \"o\": {\"lat\":\"latitude\",\"lon\":\"longitude\",\"width\":600,\"height\":400,\"rField\":null,\"colorField\":null}\n  }\n  \n                        \n                        \n                      );\n      }\n    );/*]]>*/</script>\n    <div>\n      <span class=\"chart-total-item-count\"><p data-bind=\"text: value\"><script data-this=\"{&quot;valueId&quot;:&quot;anon9eebb03bf7601f2d5e02dded4ce3263e&quot;,&quot;initialValue&quot;:&quot;272&quot;}\" type=\"text/x-scoped-javascript\">/*<![CDATA[*/\nreq(\n['observable', 'knockout'],\nfunction (O, ko) {\n  ko.applyBindings({\n      value: O.makeObservable(valueId, initialValue)\n    },\n    this\n  );\n});\n        /*]]>*/</script></p> entries total</span>\n      <span class=\"chart-sampling-warning\"><p data-bind=\"text: value\"><script data-this=\"{&quot;valueId&quot;:&quot;anon9c4fb9ae05ac34c8e59ad3ec4a2810e3&quot;,&quot;initialValue&quot;:&quot;&quot;}\" type=\"text/x-scoped-javascript\">/*<![CDATA[*/\nreq(\n['observable', 'knockout'],\nfunction (O, ko) {\n  ko.applyBindings({\n      value: O.makeObservable(valueId, initialValue)\n    },\n    this\n  );\n});\n        /*]]>*/</script></p></span>\n      <div>\n      </div>\n    </div></div>"
          },
          "output_type" : "execute_result",
          "execution_count" : 3,
          "time" : "Took: 9.759s, at 2018-06-15 23:58"
        }
      ]
    },
    {
      "metadata" : {
        "trusted" : true,
        "input_collapsed" : false,
        "collapsed" : true,
        "id" : "D23BBEE959514EFFB7F5AE4109AEB3F2"
      },
      "cell_type" : "markdown",
      "source" : "To improve performance, you can persist temporary results. Compare the time to compute the following two equivalent code snippets:"
    },
    {
      "metadata" : {
        "trusted" : true,
        "input_collapsed" : false,
        "collapsed" : false,
        "id" : "C25A546405684B2D88BCC87DFB2DA45E"
      },
      "cell_type" : "code",
      "source" : [
        "\n",
        "val devicesByGeoHash = records\n",
        "                       .withColumn(\"generatedGeoHash\", \n",
        "                                   callUDF(\"geoHash\", col(\"latitude\"), col(\"longitude\"), lit(2)))\n",
        "                       .select(col(\"ad_id\"), \n",
        "                               col(\"generatedGeoHash\"))\n",
        "                       .distinct().groupBy(\"generatedGeoHash\").count().sort(desc(\"count\"))\n",
        "\n",
        "val moreThan1000 = devicesByGeoHash.filter($\"count\" > 1000).count();\n",
        "val between500And1000 = devicesByGeoHash.filter($\"count\" > 500 && $\"count\" < 1000).count();\n",
        "val lessThan500 = devicesByGeoHash.filter($\"count\" < 500).count();\n"
      ],
      "outputs" : [
        {
          "name" : "stdout",
          "output_type" : "stream",
          "text" : "devicesByGeoHash: org.apache.spark.sql.Dataset[org.apache.spark.sql.Row] = [generatedGeoHash: string, count: bigint]\nmoreThan1000: Long = 1\nbetween500And1000: Long = 5\nlessThan500: Long = 15\n"
        },
        {
          "metadata" : { },
          "data" : {
            "text/html" : ""
          },
          "output_type" : "execute_result",
          "execution_count" : 11,
          "time" : "Took: 47.060s, at 2018-06-16 00:30"
        }
      ]
    },
    {
      "metadata" : {
        "trusted" : true,
        "input_collapsed" : false,
        "collapsed" : false,
        "id" : "99C8C6EBC06A44078BFA743D744BDA83"
      },
      "cell_type" : "code",
      "source" : [
        "val devicesByGeoHash = records\n",
        "                       .withColumn(\"generatedGeoHash\", \n",
        "                                   callUDF(\"geoHash\", col(\"latitude\"), col(\"longitude\"), lit(2)))\n",
        "                       .select(col(\"ad_id\"), \n",
        "                               col(\"generatedGeoHash\"))\n",
        "                       .distinct().groupBy(\"generatedGeoHash\").count().sort(desc(\"count\"))\n",
        "\n",
        "val persisted = devicesByGeoHash.persist(org.apache.spark.storage.StorageLevel.MEMORY_AND_DISK)\n",
        "\n",
        "val moreThan1000 = persisted.filter($\"count\" > 1000).count();\n",
        "val between500And1000 = persisted.filter($\"count\" > 500 && $\"count\" < 1000).count();\n",
        "val lessThan500 = persisted.filter($\"count\" < 500).count();\n",
        "\n",
        "persisted.unpersist()"
      ],
      "outputs" : [
        {
          "name" : "stdout",
          "output_type" : "stream",
          "text" : "devicesByGeoHash: org.apache.spark.sql.Dataset[org.apache.spark.sql.Row] = [generatedGeoHash: string, count: bigint]\npersisted: devicesByGeoHash.type = [generatedGeoHash: string, count: bigint]\nmoreThan1000: Long = 1\nbetween500And1000: Long = 5\nlessThan500: Long = 15\nres100: persisted.type = [generatedGeoHash: string, count: bigint]\n"
        },
        {
          "metadata" : { },
          "data" : {
            "text/html" : "<div class=\"df-canvas\">\n      <script data-this=\"{&quot;dataId&quot;:&quot;anone4742e0d870ce4ff9114850414b2c667&quot;,&quot;partitionIndexId&quot;:&quot;anon28c0655d3dbc15a52e2750530e9a9ccc&quot;,&quot;numPartitions&quot;:1,&quot;dfSchema&quot;:{&quot;type&quot;:&quot;struct&quot;,&quot;fields&quot;:[{&quot;name&quot;:&quot;generatedGeoHash&quot;,&quot;type&quot;:&quot;string&quot;,&quot;nullable&quot;:true,&quot;metadata&quot;:{}},{&quot;name&quot;:&quot;count&quot;,&quot;type&quot;:&quot;long&quot;,&quot;nullable&quot;:false,&quot;metadata&quot;:{}}]}}\" type=\"text/x-scoped-javascript\">/*<![CDATA[*/req(['../javascripts/notebook/dataframe','../javascripts/notebook/consoleDir'], \n      function(dataframe, extension) {\n        dataframe.call(data, this, extension);\n      }\n    );/*]]>*/</script>\n      <link rel=\"stylesheet\" href=\"/assets/stylesheets/ipython/css/dataframe.css\" type=\"text/css\"/>\n    </div>"
          },
          "output_type" : "execute_result",
          "execution_count" : 13,
          "time" : "Took: 27.122s, at 2018-06-16 00:31"
        }
      ]
    },
    {
      "metadata" : {
        "trusted" : true,
        "input_collapsed" : false,
        "collapsed" : true,
        "id" : "E43214586FF94EA6B308DF62A9B3E33C"
      },
      "cell_type" : "code",
      "source" : [
        ""
      ],
      "outputs" : [ ]
    }
  ],
  "nbformat" : 4
}